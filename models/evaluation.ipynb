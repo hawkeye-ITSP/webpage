{
 "cells": [
  {
   "cell_type": "code",
   "execution_count": 1,
   "metadata": {
    "colab": {
     "base_uri": "https://localhost:8080/",
     "height": 312
    },
    "colab_type": "code",
    "executionInfo": {
     "elapsed": 6235,
     "status": "ok",
     "timestamp": 1591594566297,
     "user": {
      "displayName": "Sahasra Ranjan",
      "photoUrl": "",
      "userId": "00705869038433939548"
     },
     "user_tz": -330
    },
    "id": "4fZ2wAyaWEFE",
    "outputId": "100fe11c-5f93-4740-9668-20b2f6cb71a7"
   },
   "outputs": [],
   "source": [
    "# !nvidia-smi"
   ]
  },
  {
   "cell_type": "code",
   "execution_count": 2,
   "metadata": {
    "colab": {
     "base_uri": "https://localhost:8080/",
     "height": 52
    },
    "colab_type": "code",
    "executionInfo": {
     "elapsed": 6205,
     "status": "ok",
     "timestamp": 1591594566312,
     "user": {
      "displayName": "Sahasra Ranjan",
      "photoUrl": "",
      "userId": "00705869038433939548"
     },
     "user_tz": -330
    },
    "id": "Q18McfVLQJGa",
    "outputId": "86c617d5-4183-4b2e-d19c-9f853e361bc8"
   },
   "outputs": [],
   "source": [
    "# from google.colab import drive\n",
    "# drive.mount('/content/gdrive')\n",
    "# %cd /content/gdrive/My\\ Drive/Colab/ITSP"
   ]
  },
  {
   "cell_type": "code",
   "execution_count": 13,
   "metadata": {
    "colab": {
     "base_uri": "https://localhost:8080/",
     "height": 69
    },
    "colab_type": "code",
    "executionInfo": {
     "elapsed": 10747,
     "status": "ok",
     "timestamp": 1591594570888,
     "user": {
      "displayName": "Sahasra Ranjan",
      "photoUrl": "",
      "userId": "00705869038433939548"
     },
     "user_tz": -330
    },
    "id": "SLckQLWlQI66",
    "outputId": "9345662c-ee07-46cb-ffee-3848fbc6070c"
   },
   "outputs": [
    {
     "name": "stdout",
     "output_type": "stream",
     "text": [
      "best_ckpt.pkl\tdata.py\t\t  itsp\t     media\t  static\r\n",
      "best_ckpt.pt\tdb.sqlite3\t  latex      model\t  template\r\n",
      "build_vocab.py\tevaluation.ipynb  manage.py  __pycache__  utils.py\r\n"
     ]
    }
   ],
   "source": [
    "!ls"
   ]
  },
  {
   "cell_type": "code",
   "execution_count": 14,
   "metadata": {
    "colab": {
     "base_uri": "https://localhost:8080/",
     "height": 34
    },
    "colab_type": "code",
    "executionInfo": {
     "elapsed": 16259,
     "status": "ok",
     "timestamp": 1591594576416,
     "user": {
      "displayName": "Sahasra Ranjan",
      "photoUrl": "",
      "userId": "00705869038433939548"
     },
     "user_tz": -330
    },
    "id": "lS3X5vo1QfT8",
    "outputId": "f5741071-6595-4dbb-a9b6-e4deac146082"
   },
   "outputs": [
    {
     "name": "stdout",
     "output_type": "stream",
     "text": [
      "Defaulting to user installation because normal site-packages is not writeable\n",
      "Requirement already satisfied: distance in /home/sahasra/.local/lib/python3.8/site-packages (0.1.3)\n"
     ]
    }
   ],
   "source": [
    "! pip install distance"
   ]
  },
  {
   "cell_type": "code",
   "execution_count": 15,
   "metadata": {
    "colab": {},
    "colab_type": "code",
    "id": "039cGd8SOJoy"
   },
   "outputs": [],
   "source": [
    "# load checkpoint and evaluating\n",
    "from os.path import join\n",
    "from functools import partial\n",
    "import argparse\n",
    "\n",
    "import torch\n",
    "from torch.utils.data import DataLoader\n",
    "from tqdm import tqdm\n",
    "\n",
    "from data import Im2LatexDataset\n",
    "from build_vocab import Vocab, load_vocab\n",
    "from utils import collate_fn\n",
    "from model import LatexProducer, Im2LatexModel\n",
    "from model.score import score_files"
   ]
  },
  {
   "cell_type": "code",
   "execution_count": 16,
   "metadata": {
    "colab": {
     "base_uri": "https://localhost:8080/",
     "height": 54
    },
    "colab_type": "code",
    "executionInfo": {
     "elapsed": 1196,
     "status": "ok",
     "timestamp": 1591594702612,
     "user": {
      "displayName": "Sahasra Ranjan",
      "photoUrl": "",
      "userId": "00705869038433939548"
     },
     "user_tz": -330
    },
    "id": "PXKPxdLXPohk",
    "outputId": "2b94e968-1fdc-42b6-a195-9d7e988d7873"
   },
   "outputs": [
    {
     "data": {
      "text/plain": [
       "Namespace(batch_size=8, beam_size=5, cuda=True, data_path='./data/', max_len=64, model_path='best_ckpt.pkl', ref_path='./results/ref.txt', result_path='./results/result.txt', split='validate')"
      ]
     },
     "execution_count": 16,
     "metadata": {},
     "output_type": "execute_result"
    }
   ],
   "source": [
    "from argparse import Namespace\n",
    "\n",
    "args = Namespace(\n",
    "    model_path = \"best_ckpt.pkl\",\n",
    "\n",
    "    # model args\n",
    "    data_path = \"./data/\",\n",
    "    cuda = True,\n",
    "    batch_size = 8,\n",
    "    beam_size = 5,\n",
    "    result_path = \"./results/result.txt\",\n",
    "    ref_path = \"./results/ref.txt\",\n",
    "    max_len = 64,\n",
    "    split = \"validate\"\n",
    ")\n",
    "\n",
    "args"
   ]
  },
  {
   "cell_type": "code",
   "execution_count": 18,
   "metadata": {
    "colab": {
     "base_uri": "https://localhost:8080/",
     "height": 34
    },
    "colab_type": "code",
    "executionInfo": {
     "elapsed": 1304,
     "status": "ok",
     "timestamp": 1591594703729,
     "user": {
      "displayName": "Sahasra Ranjan",
      "photoUrl": "",
      "userId": "00705869038433939548"
     },
     "user_tz": -330
    },
    "id": "jA6WQTe8Naow",
    "outputId": "80aab145-376f-4213-b222-7042e4573ea7"
   },
   "outputs": [
    {
     "name": "stdout",
     "output_type": "stream",
     "text": [
      "Load vocab including 250 words!\n"
     ]
    }
   ],
   "source": [
    "# Loading Model\n",
    "checkpoint = torch.load(join(args.model_path))\n",
    "model_args = checkpoint['args']\n",
    "\n",
    "# Read the dictionary and set other related parameters\n",
    "vocab = load_vocab(args.data_path)\n",
    "use_cuda = True if args.cuda and torch.cuda.is_available() else False"
   ]
  },
  {
   "cell_type": "code",
   "execution_count": 20,
   "metadata": {
    "colab": {
     "base_uri": "https://localhost:8080/",
     "height": 34
    },
    "colab_type": "code",
    "executionInfo": {
     "elapsed": 2029,
     "status": "ok",
     "timestamp": 1591594704900,
     "user": {
      "displayName": "Sahasra Ranjan",
      "photoUrl": "",
      "userId": "00705869038433939548"
     },
     "user_tz": -330
    },
    "id": "NqrBUMT8NkNh",
    "outputId": "7c8fae6d-325a-4b96-ea2f-7b3a953e019e"
   },
   "outputs": [
    {
     "ename": "RuntimeError",
     "evalue": "Error(s) in loading state_dict for Im2LatexModel:\n\tsize mismatch for embedding.weight: copying a param with shape torch.Size([394, 80]) from checkpoint, the shape in current model is torch.Size([250, 80]).\n\tsize mismatch for W_out.weight: copying a param with shape torch.Size([394, 512]) from checkpoint, the shape in current model is torch.Size([250, 512]).",
     "output_type": "error",
     "traceback": [
      "\u001b[0;31m---------------------------------------------------------------------------\u001b[0m",
      "\u001b[0;31mRuntimeError\u001b[0m                              Traceback (most recent call last)",
      "\u001b[0;32m<ipython-input-20-ffbffefdb47d>\u001b[0m in \u001b[0;36m<module>\u001b[0;34m\u001b[0m\n\u001b[1;32m     13\u001b[0m     \u001b[0mdropout\u001b[0m\u001b[0;34m=\u001b[0m\u001b[0mmodel_args\u001b[0m\u001b[0;34m.\u001b[0m\u001b[0mdropout\u001b[0m\u001b[0;34m\u001b[0m\u001b[0;34m\u001b[0m\u001b[0m\n\u001b[1;32m     14\u001b[0m )\n\u001b[0;32m---> 15\u001b[0;31m \u001b[0mmodel\u001b[0m\u001b[0;34m.\u001b[0m\u001b[0mload_state_dict\u001b[0m\u001b[0;34m(\u001b[0m\u001b[0mcheckpoint\u001b[0m\u001b[0;34m[\u001b[0m\u001b[0;34m'model_state_dict'\u001b[0m\u001b[0;34m]\u001b[0m\u001b[0;34m)\u001b[0m\u001b[0;34m\u001b[0m\u001b[0;34m\u001b[0m\u001b[0m\n\u001b[0m",
      "\u001b[0;32m~/.local/lib/python3.8/site-packages/torch/nn/modules/module.py\u001b[0m in \u001b[0;36mload_state_dict\u001b[0;34m(self, state_dict, strict)\u001b[0m\n\u001b[1;32m    844\u001b[0m \u001b[0;34m\u001b[0m\u001b[0m\n\u001b[1;32m    845\u001b[0m         \u001b[0;32mif\u001b[0m \u001b[0mlen\u001b[0m\u001b[0;34m(\u001b[0m\u001b[0merror_msgs\u001b[0m\u001b[0;34m)\u001b[0m \u001b[0;34m>\u001b[0m \u001b[0;36m0\u001b[0m\u001b[0;34m:\u001b[0m\u001b[0;34m\u001b[0m\u001b[0;34m\u001b[0m\u001b[0m\n\u001b[0;32m--> 846\u001b[0;31m             raise RuntimeError('Error(s) in loading state_dict for {}:\\n\\t{}'.format(\n\u001b[0m\u001b[1;32m    847\u001b[0m                                self.__class__.__name__, \"\\n\\t\".join(error_msgs)))\n\u001b[1;32m    848\u001b[0m         \u001b[0;32mreturn\u001b[0m \u001b[0m_IncompatibleKeys\u001b[0m\u001b[0;34m(\u001b[0m\u001b[0mmissing_keys\u001b[0m\u001b[0;34m,\u001b[0m \u001b[0munexpected_keys\u001b[0m\u001b[0;34m)\u001b[0m\u001b[0;34m\u001b[0m\u001b[0;34m\u001b[0m\u001b[0m\n",
      "\u001b[0;31mRuntimeError\u001b[0m: Error(s) in loading state_dict for Im2LatexModel:\n\tsize mismatch for embedding.weight: copying a param with shape torch.Size([394, 80]) from checkpoint, the shape in current model is torch.Size([250, 80]).\n\tsize mismatch for W_out.weight: copying a param with shape torch.Size([394, 512]) from checkpoint, the shape in current model is torch.Size([250, 512])."
     ]
    }
   ],
   "source": [
    "# Load test set\n",
    "data_loader = DataLoader(\n",
    "    Im2LatexDataset(args.data_path, args.split, args.max_len),\n",
    "    batch_size=args.batch_size,\n",
    "    collate_fn=partial(collate_fn, vocab.sign2id),\n",
    "    pin_memory=True if use_cuda else False,\n",
    "    num_workers=4\n",
    ")\n",
    "\n",
    "model = Im2LatexModel(\n",
    "    len(vocab), model_args.emb_dim, model_args.dec_rnn_h,\n",
    "    add_pos_feat=model_args.add_position_features,\n",
    "    dropout=model_args.dropout\n",
    ")\n",
    "model.load_state_dict(checkpoint['model_state_dict'])"
   ]
  },
  {
   "cell_type": "code",
   "execution_count": null,
   "metadata": {
    "colab": {},
    "colab_type": "code",
    "id": "nS1PTmHlby2n"
   },
   "outputs": [],
   "source": [
    "result_file = open(args.result_path, 'w')\n",
    "ref_file = open(args.ref_path, 'w')"
   ]
  },
  {
   "cell_type": "code",
   "execution_count": null,
   "metadata": {
    "colab": {
     "base_uri": "https://localhost:8080/",
     "height": 124
    },
    "colab_type": "code",
    "executionInfo": {
     "elapsed": 46908,
     "status": "ok",
     "timestamp": 1591594761563,
     "user": {
      "displayName": "Sahasra Ranjan",
      "photoUrl": "",
      "userId": "00705869038433939548"
     },
     "user_tz": -330
    },
    "id": "C7ZVe9EkMvxQ",
    "outputId": "17dcac91-c833-4b2f-f0ec-6a4e77a4edf0"
   },
   "outputs": [],
   "source": [
    "latex_producer = LatexProducer(\n",
    "    model, vocab, max_len=args.max_len,\n",
    "    use_cuda=use_cuda, beam_size=args.beam_size)\n",
    "\n",
    "for imgs, tgt4training, tgt4cal_loss in tqdm(data_loader):\n",
    "    try:\n",
    "        reference = latex_producer._idx2formulas(tgt4cal_loss)\n",
    "        results = latex_producer(imgs)\n",
    "    except RuntimeError:\n",
    "        break\n",
    "\n",
    "    result_file.write('\\n'.join(results))\n",
    "    ref_file.write('\\n'.join(reference))\n",
    "\n",
    "result_file.close()\n",
    "ref_file.close()\n",
    "score = score_files(args.result_path, args.ref_path)\n",
    "print(\"beam search result:\", score)"
   ]
  },
  {
   "cell_type": "code",
   "execution_count": 0,
   "metadata": {
    "colab": {},
    "colab_type": "code",
    "id": "dEsk8JqbbS-P"
   },
   "outputs": [],
   "source": []
  }
 ],
 "metadata": {
  "colab": {
   "authorship_tag": "ABX9TyP9xK3aLkJBJxTcyO3SCNKx",
   "collapsed_sections": [],
   "name": "evaluation.ipynb",
   "provenance": []
  },
  "kernelspec": {
   "display_name": "Python 3",
   "language": "python",
   "name": "python3"
  },
  "language_info": {
   "codemirror_mode": {
    "name": "ipython",
    "version": 3
   },
   "file_extension": ".py",
   "mimetype": "text/x-python",
   "name": "python",
   "nbconvert_exporter": "python",
   "pygments_lexer": "ipython3",
   "version": "3.8.2"
  }
 },
 "nbformat": 4,
 "nbformat_minor": 1
}
