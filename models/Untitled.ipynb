{
 "cells": [
  {
   "cell_type": "code",
   "execution_count": 1,
   "metadata": {},
   "outputs": [],
   "source": [
    "import cv2\n",
    "import PIL\n",
    "import numpy as np\n",
    "from PIL import Image\n",
    "import matplotlib.pyplot as plt"
   ]
  },
  {
   "cell_type": "code",
   "execution_count": 19,
   "metadata": {},
   "outputs": [],
   "source": [
    "def preImage(pil_image):\n",
    "    img = cv2.cvtColor(np.array(pil_image), cv2.COLOR_RGB2BGR)\n",
    "\n",
    "    th = 0\n",
    "    max_val = 255\n",
    "    img_gray = cv2.cvtColor(img,cv2.COLOR_BGR2GRAY)\n",
    "\n",
    "#     plt.imshow(img,cmap = 'gray')\n",
    "#     plt.show()\n",
    "#     print(img.shape)\n",
    "\n",
    "    ret, thresh1 = cv2.threshold(img_gray, th , max_val,cv2.THRESH_OTSU + cv2.THRESH_BINARY_INV)\n",
    "\n",
    "\n",
    "    kernel = np.ones((3,3),np.uint8)\n",
    "\n",
    "    dilate = cv2.dilate(thresh1,kernel,iterations = 9)\n",
    "\n",
    "    cnt, hierarchy = cv2.findContours(dilate, cv2.RETR_EXTERNAL,cv2.CHAIN_APPROX_SIMPLE)\n",
    "\n",
    "    boxes = []\n",
    "\n",
    "    for c in cnt:\n",
    "        x,y,w,h = cv2.boundingRect(c)\n",
    "        cv2.rectangle(img,(x,y),(x+w,y+h),(255,255,255),2) \n",
    "        boxes.append(img[y:y+h, x:x+w])\n",
    "\n",
    "    length = len(boxes)\n",
    "\n",
    "\n",
    "    height = [32,64,96,128,160,800]\n",
    "    w_32_64 = [128,160,192,224,256,320,384,480]\n",
    "    w_96 = 384\n",
    "    w_128 = [480,512,800]\n",
    "    w_160 = [480,800]\n",
    "    w_800 = 800\n",
    "\n",
    "\n",
    "    for a in range(length):\n",
    "        ht = boxes[a].shape[0]\n",
    "        wt = boxes[a].shape[1]\n",
    "\n",
    "        for i in range(6):\n",
    "            if height[i]>=ht:\n",
    "                h_ = height[i]\n",
    "                h_add = height[i]-ht\n",
    "                break\n",
    "\n",
    "        if h_ == 32 or 64:\n",
    "            for i in range(8):\n",
    "                if w_32_64[i] > wt:\n",
    "                    w_add = w_32_64[i]-wt\n",
    "                    break\n",
    "\n",
    "        if h_ == 96:\n",
    "            w_add = w_96 - wt\n",
    "\n",
    "        if h_ == 128:\n",
    "            for i in range(3):\n",
    "                if w_128[i] > wt:\n",
    "                    w_add = w_128[i]-wt\n",
    "                    break \n",
    "\n",
    "        if h_ == 160:\n",
    "            for i in range(2):\n",
    "                if w_160[i] > wt:\n",
    "                    w_add = w_160[i]-wt\n",
    "                    break \n",
    "\n",
    "        if h_ == 800:\n",
    "            w_add = w_800 - wt\n",
    "\n",
    "        # padding\n",
    "        h1 = h_add - h_add//2\n",
    "        h2 = h_add//2\n",
    "        w1 = w_add - w_add//2\n",
    "        w2 = w_add//2\n",
    "\n",
    "        boxes[a]= cv2.copyMakeBorder(boxes[a],h1,h2,w1,w2,cv2.BORDER_CONSTANT,value = (255,255,255))\n",
    "\n",
    "    equations = []\n",
    "        \n",
    "    for box in boxes:\n",
    "        print(box.shape)\n",
    "#         box = cv2.resize(box, (box.shape[1]//2, box.shape[0]//2))\n",
    "#         print(box.size)\n",
    "#         box = cv2.resize(box, (box.shape[1]*2, box.shape[0]*2))\n",
    "#         print(box.size)\n",
    "        equations.append(box)\n",
    "\n",
    "    return Image.fromarray(cv2.cvtColor(equations[0], cv2.COLOR_BGR2RGB))"
   ]
  },
  {
   "cell_type": "code",
   "execution_count": 20,
   "metadata": {},
   "outputs": [
    {
     "name": "stdout",
     "output_type": "stream",
     "text": [
      "1000a29807.png\t10074189f9.png\teq2.png  eq5.png  test0.png  test3.png\r\n",
      "10024a5ccf.png\t100b5d8c64.png\teq3.png  eq6.png  test1.png\r\n",
      "1004e6e848.png\teq1.png\t\teq4.png  eq7.png  test2.png\r\n"
     ]
    }
   ],
   "source": [
    "! ls media"
   ]
  },
  {
   "cell_type": "code",
   "execution_count": 21,
   "metadata": {},
   "outputs": [
    {
     "name": "stdout",
     "output_type": "stream",
     "text": [
      "(292, 60)\n",
      "(64, 320, 3)\n",
      "(320, 64)\n"
     ]
    },
    {
     "data": {
      "image/png": "[encoded data removed]",
      "text/plain": [
       "<PIL.Image.Image image mode=RGB size=320x64 at 0x7F5EE960A790>"
      ]
     },
     "execution_count": 21,
     "metadata": {},
     "output_type": "execute_result"
    }
   ],
   "source": [
    "img = Image.open('media/eq7.png')\n",
    "print(img.size)\n",
    "img = preImage(img)\n",
    "print(img.size)\n",
    "img"
   ]
  },
  {
   "cell_type": "code",
   "execution_count": null,
   "metadata": {},
   "outputs": [],
   "source": []
  }
 ],
 "metadata": {
  "kernelspec": {
   "display_name": "Python 3",
   "language": "python",
   "name": "python3"
  },
  "language_info": {
   "codemirror_mode": {
    "name": "ipython",
    "version": 3
   },
   "file_extension": ".py",
   "mimetype": "text/x-python",
   "name": "python",
   "nbconvert_exporter": "python",
   "pygments_lexer": "ipython3",
   "version": "3.8.2"
  }
 },
 "nbformat": 4,
 "nbformat_minor": 4
}
